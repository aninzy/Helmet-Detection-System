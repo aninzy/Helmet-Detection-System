{
  "cells": [
    {
      "cell_type": "markdown",
      "metadata": {},
      "source": [
        "# Helmet Detection - CenterNet MobileNet V2 FPN 512x512:"
      ]
    },
    {
      "cell_type": "markdown",
      "metadata": {},
      "source": [
        "## 1. DOWNLOAD THE PRETRAINED MODELS FROM THE TENSOFLOW MODEL ZOO"
      ]
    },
    {
      "cell_type": "code",
      "execution_count": 1,
      "metadata": {},
      "outputs": [],
      "source": [
        "import os\n",
        "\n",
        "# DATA_DIR = os.path.join(os.getcwd(), 'data')\n",
        "MODELS_DIR = os.path.join('pre-trained-model')\n",
        "for dir in [MODELS_DIR]:\n",
        "    if not os.path.exists(dir):\n",
        "        os.mkdir(dir)"
      ]
    },
    {
      "cell_type": "code",
      "execution_count": 2,
      "metadata": {},
      "outputs": [],
      "source": [
        "main_directory = 'models'\n",
        "subfolder_name = 'centernet_mobilenetv2fpn_512x512' #Change\n",
        "\n",
        "main_directory_path = os.path.join(os.getcwd(), main_directory)\n",
        "subfolder_path = os.path.join(main_directory_path, subfolder_name)\n",
        "\n",
        "if not os.path.exists(subfolder_path):\n",
        "    os.makedirs(subfolder_path)"
      ]
    },
    {
      "cell_type": "code",
      "execution_count": 3,
      "metadata": {},
      "outputs": [
        {
          "name": "stdout",
          "output_type": "stream",
          "text": [
            "Downloading model. This may take a while... Done\n"
          ]
        }
      ],
      "source": [
        "import tarfile\n",
        "import urllib.request\n",
        "import os\n",
        "\n",
        "# Download and extract model\n",
        "MODEL_DATE = '20210210' #Change\n",
        "MODEL_NAME = 'centernet_mobilenetv2fpn_512x512_coco17_od' #Change\n",
        "MODEL_TAR_FILENAME = MODEL_NAME + '.tar.gz'\n",
        "MODELS_DOWNLOAD_BASE = 'http://download.tensorflow.org/models/object_detection/tf2/'\n",
        "MODEL_DOWNLOAD_LINK = MODELS_DOWNLOAD_BASE + MODEL_DATE + '/' + MODEL_TAR_FILENAME\n",
        "PATH_TO_MODEL_TAR = os.path.join(MODELS_DIR, MODEL_TAR_FILENAME)\n",
        "PATH_TO_CKPT = os.path.join(MODELS_DIR, os.path.join(MODEL_NAME, 'checkpoint/'))\n",
        "PATH_TO_CFG = os.path.join(MODELS_DIR, os.path.join(MODEL_NAME, 'pipeline.config'))\n",
        "if not os.path.exists(PATH_TO_CKPT):\n",
        "    print('Downloading model. This may take a while... ', end='')\n",
        "    urllib.request.urlretrieve(MODEL_DOWNLOAD_LINK, PATH_TO_MODEL_TAR)\n",
        "    tar_file = tarfile.open(PATH_TO_MODEL_TAR)\n",
        "    tar_file.extractall(MODELS_DIR)\n",
        "    tar_file.close()\n",
        "    os.remove(PATH_TO_MODEL_TAR)\n",
        "    print('Done')"
      ]
    },
    {
      "cell_type": "markdown",
      "metadata": {},
      "source": [
        "## 2. SETUP PATHS:"
      ]
    },
    {
      "cell_type": "code",
      "execution_count": 4,
      "metadata": {},
      "outputs": [],
      "source": [
        "WORKSPACE_PATH = '../training_helper_directory'\n",
        "SCRIPT_PATH = WORKSPACE_PATH + '/scripts'\n",
        "ANNOTATION_PATH = WORKSPACE_PATH + '/annotations'\n",
        "\n",
        "IMAGE_PATH = '../Dataset/\"PASCAL VOC Format Dataset\"'\n",
        "\n",
        "CUSTOM_MODEL_NAME = '/centernet_mobilenetv2fpn_512x512' #Change: same as subfolder name\n",
        "MODEL_PATH = './models' + CUSTOM_MODEL_NAME\n",
        "\n",
        "PRETRAINED_PATH = './pre-trained-model/' + MODEL_NAME\n",
        "CONFIG_PATH = MODEL_PATH + '/pipeline.config'\n",
        "\n",
        "EXPORT_PATH = '../exported-models/my-model'"
      ]
    },
    {
      "cell_type": "markdown",
      "metadata": {},
      "source": [
        "## 3. CREATE TF RECORDS:"
      ]
    },
    {
      "cell_type": "code",
      "execution_count": 5,
      "metadata": {
        "colab": {
          "base_uri": "https://localhost:8080/"
        },
        "id": "hU2lVZfzyuar",
        "outputId": "878d88c4-7b15-44ac-e289-79355b5b9566"
      },
      "outputs": [
        {
          "name": "stdout",
          "output_type": "stream",
          "text": [
            "Successfully created the TFRecord file: ../training_helper_directory/annotations/train.record\n",
            "Successfully created the TFRecord file: ../training_helper_directory/annotations/test.record\n"
          ]
        }
      ],
      "source": [
        "# Create train data:\n",
        "!python {SCRIPT_PATH + '/generate_tfrecord.py'} -x {IMAGE_PATH + '/train'} -l {ANNOTATION_PATH + '/label_map.pbtxt'} -o {ANNOTATION_PATH + '/train.record'}\n",
        "\n",
        "# Create test data:\n",
        "!python {SCRIPT_PATH + '/generate_tfrecord.py'} -x {IMAGE_PATH + '/test'} -l {ANNOTATION_PATH + '/label_map.pbtxt'} -o {ANNOTATION_PATH + '/test.record'}"
      ]
    },
    {
      "cell_type": "markdown",
      "metadata": {},
      "source": [
        "## 4. COPY MODEL CONFIG FILE TO TRANING FOLDER:"
      ]
    },
    {
      "cell_type": "code",
      "execution_count": 6,
      "metadata": {},
      "outputs": [],
      "source": [
        "SOURCE_PATH = \"D:\\Helmet Detection System\\CenterNet MobileNet V2 FPN 512x512\\pre-trained-model\\centernet_mobilenetv2_fpn_od\\pipeline.config\" #Change\n",
        "DESTINATION_PATH = \"D:\\Helmet Detection System\\CenterNet MobileNet V2 FPN 512x512\\models\\centernet_mobilenetv2fpn_512x512\" #Change"
      ]
    },
    {
      "cell_type": "code",
      "execution_count": 7,
      "metadata": {},
      "outputs": [
        {
          "name": "stdout",
          "output_type": "stream",
          "text": [
            "        1 file(s) copied.\n"
          ]
        }
      ],
      "source": [
        "!copy \"{SOURCE_PATH}\" \"{DESTINATION_PATH}\""
      ]
    },
    {
      "cell_type": "markdown",
      "metadata": {},
      "source": [
        "## 5. UPDATING CONFIG FOR TRANSFER LEARNING:"
      ]
    },
    {
      "cell_type": "code",
      "execution_count": 8,
      "metadata": {},
      "outputs": [],
      "source": [
        "import tensorflow as tf\n",
        "from object_detection.utils import config_util\n",
        "from object_detection.protos import pipeline_pb2\n",
        "from google.protobuf import text_format"
      ]
    },
    {
      "cell_type": "code",
      "execution_count": 9,
      "metadata": {},
      "outputs": [],
      "source": [
        "config = config_util.get_configs_from_pipeline_file(CONFIG_PATH)"
      ]
    },
    {
      "cell_type": "code",
      "execution_count": 10,
      "metadata": {},
      "outputs": [
        {
          "data": {
            "text/plain": [
              "{'model': center_net {\n",
              "   num_classes: 90\n",
              "   feature_extractor {\n",
              "     type: \"mobilenet_v2_fpn_sep_conv\"\n",
              "   }\n",
              "   image_resizer {\n",
              "     keep_aspect_ratio_resizer {\n",
              "       min_dimension: 512\n",
              "       max_dimension: 512\n",
              "       pad_to_max_dimension: true\n",
              "     }\n",
              "   }\n",
              "   object_detection_task {\n",
              "     task_loss_weight: 1.0\n",
              "     offset_loss_weight: 1.0\n",
              "     scale_loss_weight: 0.10000000149011612\n",
              "     localization_loss {\n",
              "       l1_localization_loss {\n",
              "       }\n",
              "     }\n",
              "   }\n",
              "   object_center_params {\n",
              "     object_center_loss_weight: 1.0\n",
              "     classification_loss {\n",
              "       penalty_reduced_logistic_focal_loss {\n",
              "         alpha: 2.0\n",
              "         beta: 4.0\n",
              "       }\n",
              "     }\n",
              "     min_box_overlap_iou: 0.699999988079071\n",
              "     max_box_predictions: 20\n",
              "   }\n",
              "   use_depthwise: true\n",
              " },\n",
              " 'train_config': batch_size: 512\n",
              " data_augmentation_options {\n",
              "   random_horizontal_flip {\n",
              "     keypoint_flip_permutation: 0\n",
              "     keypoint_flip_permutation: 2\n",
              "     keypoint_flip_permutation: 1\n",
              "     keypoint_flip_permutation: 4\n",
              "     keypoint_flip_permutation: 3\n",
              "     keypoint_flip_permutation: 6\n",
              "     keypoint_flip_permutation: 5\n",
              "     keypoint_flip_permutation: 8\n",
              "     keypoint_flip_permutation: 7\n",
              "     keypoint_flip_permutation: 10\n",
              "     keypoint_flip_permutation: 9\n",
              "     keypoint_flip_permutation: 12\n",
              "     keypoint_flip_permutation: 11\n",
              "     keypoint_flip_permutation: 14\n",
              "     keypoint_flip_permutation: 13\n",
              "     keypoint_flip_permutation: 16\n",
              "     keypoint_flip_permutation: 15\n",
              "   }\n",
              " }\n",
              " data_augmentation_options {\n",
              "   random_patch_gaussian {\n",
              "   }\n",
              " }\n",
              " data_augmentation_options {\n",
              "   random_crop_image {\n",
              "     min_aspect_ratio: 0.5\n",
              "     max_aspect_ratio: 1.7000000476837158\n",
              "     random_coef: 0.25\n",
              "   }\n",
              " }\n",
              " data_augmentation_options {\n",
              "   random_adjust_hue {\n",
              "   }\n",
              " }\n",
              " data_augmentation_options {\n",
              "   random_adjust_contrast {\n",
              "   }\n",
              " }\n",
              " data_augmentation_options {\n",
              "   random_adjust_saturation {\n",
              "   }\n",
              " }\n",
              " data_augmentation_options {\n",
              "   random_adjust_brightness {\n",
              "   }\n",
              " }\n",
              " data_augmentation_options {\n",
              "   random_absolute_pad_image {\n",
              "     max_height_padding: 200\n",
              "     max_width_padding: 200\n",
              "     pad_color: 0.0\n",
              "     pad_color: 0.0\n",
              "     pad_color: 0.0\n",
              "   }\n",
              " }\n",
              " optimizer {\n",
              "   adam_optimizer {\n",
              "     learning_rate {\n",
              "       cosine_decay_learning_rate {\n",
              "         learning_rate_base: 0.004999999888241291\n",
              "         total_steps: 300000\n",
              "         warmup_learning_rate: 9.999999747378752e-05\n",
              "         warmup_steps: 5000\n",
              "       }\n",
              "     }\n",
              "   }\n",
              "   use_moving_average: false\n",
              " }\n",
              " num_steps: 300000\n",
              " max_number_of_boxes: 100\n",
              " unpad_groundtruth_tensors: false\n",
              " fine_tune_checkpoint_type: \"\",\n",
              " 'train_input_config': label_map_path: \"PATH_TO_BE_CONFIGURED/label_map.txt\"\n",
              " tf_record_input_reader {\n",
              "   input_path: \"PATH_TO_BE_CONFIGURED/train2017-?????-of-00256.tfrecord\"\n",
              " }\n",
              " filenames_shuffle_buffer_size: 256\n",
              " num_keypoints: 17,\n",
              " 'eval_config': num_visualizations: 10\n",
              " metrics_set: \"coco_detection_metrics\"\n",
              " use_moving_averages: false\n",
              " min_score_threshold: 0.20000000298023224\n",
              " max_num_boxes_to_visualize: 20\n",
              " batch_size: 1,\n",
              " 'eval_input_configs': [label_map_path: \"PATH_TO_BE_CONFIGURED/label_map.txt\"\n",
              " shuffle: false\n",
              " num_epochs: 1\n",
              " tf_record_input_reader {\n",
              "   input_path: \"PATH_TO_BE_CONFIGURED/val2017-?????-of-00032.tfrecord\"\n",
              " }\n",
              " num_keypoints: 17\n",
              " ],\n",
              " 'eval_input_config': label_map_path: \"PATH_TO_BE_CONFIGURED/label_map.txt\"\n",
              " shuffle: false\n",
              " num_epochs: 1\n",
              " tf_record_input_reader {\n",
              "   input_path: \"PATH_TO_BE_CONFIGURED/val2017-?????-of-00032.tfrecord\"\n",
              " }\n",
              " num_keypoints: 17}"
            ]
          },
          "execution_count": 10,
          "metadata": {},
          "output_type": "execute_result"
        }
      ],
      "source": [
        "config"
      ]
    },
    {
      "cell_type": "code",
      "execution_count": 11,
      "metadata": {},
      "outputs": [],
      "source": [
        "pipeline_config = pipeline_pb2.TrainEvalPipelineConfig()\n",
        "with tf.io.gfile.GFile(CONFIG_PATH, \"r\") as f:\n",
        "    proto_str = f.read()\n",
        "    text_format.Merge(proto_str, pipeline_config)"
      ]
    },
    {
      "cell_type": "code",
      "execution_count": 12,
      "metadata": {},
      "outputs": [],
      "source": [
        "pipeline_config.model.center_net.num_classes = 2 #Change num_classes and name\n",
        "\n",
        "pipeline_config.train_config.batch_size = 2 #Change\n",
        "pipeline_config.train_config.num_steps = 1000 #Change\n",
        "\n",
        "pipeline_config.train_config.fine_tune_checkpoint = PRETRAINED_PATH + '/checkpoint/ckpt-301'\n",
        "pipeline_config.train_config.fine_tune_checkpoint_type = \"detection\" \n",
        "\n",
        "pipeline_config.train_input_reader.label_map_path = ANNOTATION_PATH + '/label_map.pbtxt'\n",
        "pipeline_config.train_input_reader.tf_record_input_reader.input_path[:] = [ANNOTATION_PATH+ '/train.record'] \n",
        "\n",
        "pipeline_config.eval_input_reader[0].label_map_path = ANNOTATION_PATH + '/label_map.pbtxt'\n",
        "pipeline_config.eval_input_reader[0].tf_record_input_reader.input_path[:] = [ANNOTATION_PATH + '/test.record']"
      ]
    },
    {
      "cell_type": "code",
      "execution_count": 13,
      "metadata": {},
      "outputs": [],
      "source": [
        "config_text = text_format.MessageToString(pipeline_config)\n",
        "with tf.io.gfile.GFile(CONFIG_PATH, \"wb\") as f:\n",
        "    f.write(config_text)"
      ]
    },
    {
      "cell_type": "markdown",
      "metadata": {},
      "source": [
        "## 6. TRAIN THE MODEL:"
      ]
    },
    {
      "cell_type": "code",
      "execution_count": 14,
      "metadata": {},
      "outputs": [
        {
          "data": {
            "text/plain": [
              "[PhysicalDevice(name='/physical_device:GPU:0', device_type='GPU')]"
            ]
          },
          "execution_count": 14,
          "metadata": {},
          "output_type": "execute_result"
        }
      ],
      "source": [
        "import tensorflow as tf\n",
        "tf.config.list_physical_devices('GPU')"
      ]
    },
    {
      "cell_type": "code",
      "execution_count": 15,
      "metadata": {},
      "outputs": [
        {
          "data": {
            "text/plain": [
              "'d:\\\\Helmet Detection System\\\\CenterNet MobileNet V2 FPN 512x512'"
            ]
          },
          "execution_count": 15,
          "metadata": {},
          "output_type": "execute_result"
        }
      ],
      "source": [
        "import os\n",
        "os.getcwd()"
      ]
    },
    {
      "cell_type": "code",
      "execution_count": 16,
      "metadata": {
        "colab": {
          "base_uri": "https://localhost:8080/"
        },
        "id": "pNVwlSCq9pr1",
        "outputId": "b7d397d0-5254-4ca2-e7df-c4bbe5f6bd88"
      },
      "outputs": [
        {
          "name": "stderr",
          "output_type": "stream",
          "text": [
            "2024-03-15 01:11:47.837132: I tensorflow/core/platform/cpu_feature_guard.cc:193] This TensorFlow binary is optimized with oneAPI Deep Neural Network Library (oneDNN) to use the following CPU instructions in performance-critical operations:  AVX AVX2\n",
            "To enable them in other operations, rebuild TensorFlow with the appropriate compiler flags.\n",
            "2024-03-15 01:11:48.384502: I tensorflow/core/common_runtime/gpu/gpu_device.cc:1532] Created device /job:localhost/replica:0/task:0/device:GPU:0 with 1656 MB memory:  -> device: 0, name: NVIDIA GeForce RTX 3050 Laptop GPU, pci bus id: 0000:01:00.0, compute capability: 8.6\n",
            "INFO:tensorflow:Using MirroredStrategy with devices ('/job:localhost/replica:0/task:0/device:GPU:0',)\n",
            "I0315 01:11:48.447605 25352 mirrored_strategy.py:374] Using MirroredStrategy with devices ('/job:localhost/replica:0/task:0/device:GPU:0',)\n",
            "INFO:tensorflow:Maybe overwriting train_steps: None\n",
            "I0315 01:11:48.453661 25352 config_util.py:552] Maybe overwriting train_steps: None\n",
            "INFO:tensorflow:Maybe overwriting use_bfloat16: False\n",
            "I0315 01:11:48.453661 25352 config_util.py:552] Maybe overwriting use_bfloat16: False\n",
            "WARNING:tensorflow:`input_shape` is undefined or non-square, or `rows` is not in [96, 128, 160, 192, 224]. Weights for input shape (224, 224) will be loaded as the default.\n",
            "W0315 01:11:48.454877 25352 mobilenet_v2.py:303] `input_shape` is undefined or non-square, or `rows` is not in [96, 128, 160, 192, 224]. Weights for input shape (224, 224) will be loaded as the default.\n",
            "INFO:tensorflow:Reduce to /job:localhost/replica:0/task:0/device:CPU:0 then broadcast to ('/job:localhost/replica:0/task:0/device:CPU:0',).\n",
            "I0315 01:11:48.474789 25352 cross_device_ops.py:616] Reduce to /job:localhost/replica:0/task:0/device:CPU:0 then broadcast to ('/job:localhost/replica:0/task:0/device:CPU:0',).\n",
            "INFO:tensorflow:Reduce to /job:localhost/replica:0/task:0/device:CPU:0 then broadcast to ('/job:localhost/replica:0/task:0/device:CPU:0',).\n",
            "I0315 01:11:48.476783 25352 cross_device_ops.py:616] Reduce to /job:localhost/replica:0/task:0/device:CPU:0 then broadcast to ('/job:localhost/replica:0/task:0/device:CPU:0',).\n",
            "INFO:tensorflow:Reduce to /job:localhost/replica:0/task:0/device:CPU:0 then broadcast to ('/job:localhost/replica:0/task:0/device:CPU:0',).\n",
            "I0315 01:11:48.477781 25352 cross_device_ops.py:616] Reduce to /job:localhost/replica:0/task:0/device:CPU:0 then broadcast to ('/job:localhost/replica:0/task:0/device:CPU:0',).\n",
            "INFO:tensorflow:Reduce to /job:localhost/replica:0/task:0/device:CPU:0 then broadcast to ('/job:localhost/replica:0/task:0/device:CPU:0',).\n",
            "I0315 01:11:48.478776 25352 cross_device_ops.py:616] Reduce to /job:localhost/replica:0/task:0/device:CPU:0 then broadcast to ('/job:localhost/replica:0/task:0/device:CPU:0',).\n",
            "INFO:tensorflow:Reduce to /job:localhost/replica:0/task:0/device:CPU:0 then broadcast to ('/job:localhost/replica:0/task:0/device:CPU:0',).\n",
            "I0315 01:11:48.519902 25352 cross_device_ops.py:616] Reduce to /job:localhost/replica:0/task:0/device:CPU:0 then broadcast to ('/job:localhost/replica:0/task:0/device:CPU:0',).\n",
            "INFO:tensorflow:Reduce to /job:localhost/replica:0/task:0/device:CPU:0 then broadcast to ('/job:localhost/replica:0/task:0/device:CPU:0',).\n",
            "I0315 01:11:48.522924 25352 cross_device_ops.py:616] Reduce to /job:localhost/replica:0/task:0/device:CPU:0 then broadcast to ('/job:localhost/replica:0/task:0/device:CPU:0',).\n",
            "INFO:tensorflow:Reduce to /job:localhost/replica:0/task:0/device:CPU:0 then broadcast to ('/job:localhost/replica:0/task:0/device:CPU:0',).\n",
            "I0315 01:11:48.536368 25352 cross_device_ops.py:616] Reduce to /job:localhost/replica:0/task:0/device:CPU:0 then broadcast to ('/job:localhost/replica:0/task:0/device:CPU:0',).\n",
            "INFO:tensorflow:Reduce to /job:localhost/replica:0/task:0/device:CPU:0 then broadcast to ('/job:localhost/replica:0/task:0/device:CPU:0',).\n",
            "I0315 01:11:48.536368 25352 cross_device_ops.py:616] Reduce to /job:localhost/replica:0/task:0/device:CPU:0 then broadcast to ('/job:localhost/replica:0/task:0/device:CPU:0',).\n",
            "INFO:tensorflow:Reduce to /job:localhost/replica:0/task:0/device:CPU:0 then broadcast to ('/job:localhost/replica:0/task:0/device:CPU:0',).\n",
            "I0315 01:11:48.538397 25352 cross_device_ops.py:616] Reduce to /job:localhost/replica:0/task:0/device:CPU:0 then broadcast to ('/job:localhost/replica:0/task:0/device:CPU:0',).\n",
            "INFO:tensorflow:Reduce to /job:localhost/replica:0/task:0/device:CPU:0 then broadcast to ('/job:localhost/replica:0/task:0/device:CPU:0',).\n",
            "I0315 01:11:48.539366 25352 cross_device_ops.py:616] Reduce to /job:localhost/replica:0/task:0/device:CPU:0 then broadcast to ('/job:localhost/replica:0/task:0/device:CPU:0',).\n",
            "WARNING:tensorflow:From c:\\Users\\sudee\\.conda\\envs\\helmet\\lib\\site-packages\\object_detection\\model_lib_v2.py:563: StrategyBase.experimental_distribute_datasets_from_function (from tensorflow.python.distribute.distribute_lib) is deprecated and will be removed in a future version.\n",
            "Instructions for updating:\n",
            "rename to distribute_datasets_from_function\n",
            "W0315 01:11:50.688066 25352 deprecation.py:350] From c:\\Users\\sudee\\.conda\\envs\\helmet\\lib\\site-packages\\object_detection\\model_lib_v2.py:563: StrategyBase.experimental_distribute_datasets_from_function (from tensorflow.python.distribute.distribute_lib) is deprecated and will be removed in a future version.\n",
            "Instructions for updating:\n",
            "rename to distribute_datasets_from_function\n",
            "INFO:tensorflow:Reading unweighted datasets: ['../training_helper_directory/annotations/train.record']\n",
            "I0315 01:11:50.691132 25352 dataset_builder.py:162] Reading unweighted datasets: ['../training_helper_directory/annotations/train.record']\n",
            "INFO:tensorflow:Reading record datasets for input file: ['../training_helper_directory/annotations/train.record']\n",
            "I0315 01:11:50.691132 25352 dataset_builder.py:79] Reading record datasets for input file: ['../training_helper_directory/annotations/train.record']\n",
            "INFO:tensorflow:Number of filenames to read: 1\n",
            "I0315 01:11:50.691132 25352 dataset_builder.py:80] Number of filenames to read: 1\n",
            "WARNING:tensorflow:num_readers has been reduced to 1 to match input file shards.\n",
            "W0315 01:11:50.691132 25352 dataset_builder.py:86] num_readers has been reduced to 1 to match input file shards.\n",
            "WARNING:tensorflow:From c:\\Users\\sudee\\.conda\\envs\\helmet\\lib\\site-packages\\object_detection\\builders\\dataset_builder.py:100: parallel_interleave (from tensorflow.python.data.experimental.ops.interleave_ops) is deprecated and will be removed in a future version.\n",
            "Instructions for updating:\n",
            "Use `tf.data.Dataset.interleave(map_func, cycle_length, block_length, num_parallel_calls=tf.data.AUTOTUNE)` instead. If sloppy execution is desired, use `tf.data.Options.deterministic`.\n",
            "W0315 01:11:50.785093 25352 deprecation.py:350] From c:\\Users\\sudee\\.conda\\envs\\helmet\\lib\\site-packages\\object_detection\\builders\\dataset_builder.py:100: parallel_interleave (from tensorflow.python.data.experimental.ops.interleave_ops) is deprecated and will be removed in a future version.\n",
            "Instructions for updating:\n",
            "Use `tf.data.Dataset.interleave(map_func, cycle_length, block_length, num_parallel_calls=tf.data.AUTOTUNE)` instead. If sloppy execution is desired, use `tf.data.Options.deterministic`.\n",
            "WARNING:tensorflow:From c:\\Users\\sudee\\.conda\\envs\\helmet\\lib\\site-packages\\object_detection\\builders\\dataset_builder.py:235: DatasetV1.map_with_legacy_function (from tensorflow.python.data.ops.dataset_ops) is deprecated and will be removed in a future version.\n",
            "Instructions for updating:\n",
            "Use `tf.data.Dataset.map()\n",
            "W0315 01:11:50.799964 25352 deprecation.py:350] From c:\\Users\\sudee\\.conda\\envs\\helmet\\lib\\site-packages\\object_detection\\builders\\dataset_builder.py:235: DatasetV1.map_with_legacy_function (from tensorflow.python.data.ops.dataset_ops) is deprecated and will be removed in a future version.\n",
            "Instructions for updating:\n",
            "Use `tf.data.Dataset.map()\n",
            "WARNING:tensorflow:From c:\\Users\\sudee\\.conda\\envs\\helmet\\lib\\site-packages\\tensorflow\\python\\util\\dispatch.py:1082: sparse_to_dense (from tensorflow.python.ops.sparse_ops) is deprecated and will be removed in a future version.\n",
            "Instructions for updating:\n",
            "Create a `tf.sparse.SparseTensor` and use `tf.sparse.to_dense` instead.\n",
            "W0315 01:11:55.180596 25352 deprecation.py:350] From c:\\Users\\sudee\\.conda\\envs\\helmet\\lib\\site-packages\\tensorflow\\python\\util\\dispatch.py:1082: sparse_to_dense (from tensorflow.python.ops.sparse_ops) is deprecated and will be removed in a future version.\n",
            "Instructions for updating:\n",
            "Create a `tf.sparse.SparseTensor` and use `tf.sparse.to_dense` instead.\n",
            "WARNING:tensorflow:From c:\\Users\\sudee\\.conda\\envs\\helmet\\lib\\site-packages\\tensorflow\\python\\util\\dispatch.py:1082: sample_distorted_bounding_box (from tensorflow.python.ops.image_ops_impl) is deprecated and will be removed in a future version.\n",
            "Instructions for updating:\n",
            "`seed2` arg is deprecated.Use sample_distorted_bounding_box_v2 instead.\n",
            "W0315 01:11:57.290912 25352 deprecation.py:350] From c:\\Users\\sudee\\.conda\\envs\\helmet\\lib\\site-packages\\tensorflow\\python\\util\\dispatch.py:1082: sample_distorted_bounding_box (from tensorflow.python.ops.image_ops_impl) is deprecated and will be removed in a future version.\n",
            "Instructions for updating:\n",
            "`seed2` arg is deprecated.Use sample_distorted_bounding_box_v2 instead.\n",
            "WARNING:tensorflow:From c:\\Users\\sudee\\.conda\\envs\\helmet\\lib\\site-packages\\tensorflow\\python\\util\\dispatch.py:1082: to_float (from tensorflow.python.ops.math_ops) is deprecated and will be removed in a future version.\n",
            "Instructions for updating:\n",
            "Use `tf.cast` instead.\n",
            "W0315 01:11:59.435618 25352 deprecation.py:350] From c:\\Users\\sudee\\.conda\\envs\\helmet\\lib\\site-packages\\tensorflow\\python\\util\\dispatch.py:1082: to_float (from tensorflow.python.ops.math_ops) is deprecated and will be removed in a future version.\n",
            "Instructions for updating:\n",
            "Use `tf.cast` instead.\n",
            "Traceback (most recent call last):\n",
            "  File \"c:\\Users\\sudee\\.conda\\envs\\helmet\\lib\\site-packages\\tensorflow\\python\\training\\py_checkpoint_reader.py\", line 92, in NewCheckpointReader\n",
            "    return CheckpointReader(compat.as_bytes(filepattern))\n",
            "RuntimeError: Unsuccessful TensorSliceReader constructor: Failed to find any matching files for ./pre-trained-model/centernet_mobilenetv2fpn_512x512_coco17_od/checkpoint/ckpt-301\n",
            "\n",
            "During handling of the above exception, another exception occurred:\n",
            "\n",
            "Traceback (most recent call last):\n",
            "  File \"d:\\Helmet Detection System\\training_helper_directory\\scripts\\model_main_tf2.py\", line 113, in <module>\n",
            "    tf.compat.v1.app.run()\n",
            "  File \"c:\\Users\\sudee\\.conda\\envs\\helmet\\lib\\site-packages\\tensorflow\\python\\platform\\app.py\", line 36, in run\n",
            "    _run(main=main, argv=argv, flags_parser=_parse_flags_tolerate_undef)\n",
            "  File \"c:\\Users\\sudee\\.conda\\envs\\helmet\\lib\\site-packages\\absl\\app.py\", line 308, in run\n",
            "    _run_main(main, args)\n",
            "  File \"c:\\Users\\sudee\\.conda\\envs\\helmet\\lib\\site-packages\\absl\\app.py\", line 254, in _run_main\n",
            "    sys.exit(main(argv))\n",
            "  File \"d:\\Helmet Detection System\\training_helper_directory\\scripts\\model_main_tf2.py\", line 104, in main\n",
            "    model_lib_v2.train_loop(\n",
            "  File \"c:\\Users\\sudee\\.conda\\envs\\helmet\\lib\\site-packages\\object_detection\\model_lib_v2.py\", line 602, in train_loop\n",
            "    variables_helper.ensure_checkpoint_supported(\n",
            "  File \"c:\\Users\\sudee\\.conda\\envs\\helmet\\lib\\site-packages\\object_detection\\utils\\variables_helper.py\", line 213, in ensure_checkpoint_supported\n",
            "    variables = tf.train.list_variables(checkpoint_path)\n",
            "  File \"c:\\Users\\sudee\\.conda\\envs\\helmet\\lib\\site-packages\\tensorflow\\python\\training\\checkpoint_utils.py\", line 109, in list_variables\n",
            "    reader = load_checkpoint(ckpt_dir_or_file)\n",
            "  File \"c:\\Users\\sudee\\.conda\\envs\\helmet\\lib\\site-packages\\tensorflow\\python\\training\\checkpoint_utils.py\", line 64, in load_checkpoint\n",
            "    return py_checkpoint_reader.NewCheckpointReader(filename)\n",
            "  File \"c:\\Users\\sudee\\.conda\\envs\\helmet\\lib\\site-packages\\tensorflow\\python\\training\\py_checkpoint_reader.py\", line 96, in NewCheckpointReader\n",
            "    error_translator(e)\n",
            "  File \"c:\\Users\\sudee\\.conda\\envs\\helmet\\lib\\site-packages\\tensorflow\\python\\training\\py_checkpoint_reader.py\", line 31, in error_translator\n",
            "    raise errors_impl.NotFoundError(None, None, error_message)\n",
            "tensorflow.python.framework.errors_impl.NotFoundError: Unsuccessful TensorSliceReader constructor: Failed to find any matching files for ./pre-trained-model/centernet_mobilenetv2fpn_512x512_coco17_od/checkpoint/ckpt-301\n"
          ]
        }
      ],
      "source": [
        "!python {SCRIPT_PATH + '/model_main_tf2.py'} --model_dir={MODEL_PATH} --pipeline_config_path={MODEL_PATH + '/pipeline.config'}"
      ]
    },
    {
      "cell_type": "code",
      "execution_count": 17,
      "metadata": {
        "colab": {
          "base_uri": "https://localhost:8080/"
        },
        "id": "UeI2URnR9zhw",
        "outputId": "6065d907-bd15-4353-e1be-33c71d6702f1"
      },
      "outputs": [
        {
          "name": "stderr",
          "output_type": "stream",
          "text": [
            "WARNING:tensorflow:`input_shape` is undefined or non-square, or `rows` is not in [96, 128, 160, 192, 224]. Weights for input shape (224, 224) will be loaded as the default.\n",
            "W0315 01:12:05.260254 26688 mobilenet_v2.py:303] `input_shape` is undefined or non-square, or `rows` is not in [96, 128, 160, 192, 224]. Weights for input shape (224, 224) will be loaded as the default.\n",
            "2024-03-15 01:12:05.260732: I tensorflow/core/platform/cpu_feature_guard.cc:193] This TensorFlow binary is optimized with oneAPI Deep Neural Network Library (oneDNN) to use the following CPU instructions in performance-critical operations:  AVX AVX2\n",
            "To enable them in other operations, rebuild TensorFlow with the appropriate compiler flags.\n",
            "2024-03-15 01:12:05.645209: I tensorflow/core/common_runtime/gpu/gpu_device.cc:1532] Created device /job:localhost/replica:0/task:0/device:GPU:0 with 1656 MB memory:  -> device: 0, name: NVIDIA GeForce RTX 3050 Laptop GPU, pci bus id: 0000:01:00.0, compute capability: 8.6\n",
            "WARNING:tensorflow:From c:\\Users\\sudee\\.conda\\envs\\helmet\\lib\\site-packages\\tensorflow\\python\\autograph\\impl\\api.py:458: calling map_fn_v2 (from tensorflow.python.ops.map_fn) with back_prop=False is deprecated and will be removed in a future version.\n",
            "Instructions for updating:\n",
            "back_prop=False is deprecated. Consider using tf.stop_gradient instead.\n",
            "Instead of:\n",
            "results = tf.map_fn(fn, elems, back_prop=False)\n",
            "Use:\n",
            "results = tf.nest.map_structure(tf.stop_gradient, tf.map_fn(fn, elems))\n",
            "W0315 01:12:07.043593 26688 deprecation.py:623] From c:\\Users\\sudee\\.conda\\envs\\helmet\\lib\\site-packages\\tensorflow\\python\\autograph\\impl\\api.py:458: calling map_fn_v2 (from tensorflow.python.ops.map_fn) with back_prop=False is deprecated and will be removed in a future version.\n",
            "Instructions for updating:\n",
            "back_prop=False is deprecated. Consider using tf.stop_gradient instead.\n",
            "Instead of:\n",
            "results = tf.map_fn(fn, elems, back_prop=False)\n",
            "Use:\n",
            "results = tf.nest.map_structure(tf.stop_gradient, tf.map_fn(fn, elems))\n",
            "Traceback (most recent call last):\n",
            "  File \"d:\\Helmet Detection System\\training_helper_directory\\scripts\\exporter_main_v2.py\", line 159, in <module>\n",
            "    app.run(main)\n",
            "  File \"c:\\Users\\sudee\\.conda\\envs\\helmet\\lib\\site-packages\\absl\\app.py\", line 308, in run\n",
            "    _run_main(main, args)\n",
            "  File \"c:\\Users\\sudee\\.conda\\envs\\helmet\\lib\\site-packages\\absl\\app.py\", line 254, in _run_main\n",
            "    sys.exit(main(argv))\n",
            "  File \"d:\\Helmet Detection System\\training_helper_directory\\scripts\\exporter_main_v2.py\", line 152, in main\n",
            "    exporter_lib_v2.export_inference_graph(\n",
            "  File \"c:\\Users\\sudee\\.conda\\envs\\helmet\\lib\\site-packages\\object_detection\\exporter_lib_v2.py\", line 271, in export_inference_graph\n",
            "    status.assert_existing_objects_matched()\n",
            "  File \"c:\\Users\\sudee\\.conda\\envs\\helmet\\lib\\site-packages\\tensorflow\\python\\training\\tracking\\util.py\", line 948, in assert_existing_objects_matched\n",
            "    raise AssertionError(\n",
            "AssertionError: No checkpoint specified (save_path=None); nothing is being restored.\n"
          ]
        }
      ],
      "source": [
        "!python {SCRIPT_PATH + '/exporter_main_v2.py'} --input_type image_tensor --pipeline_config_path {CONFIG_PATH} --trained_checkpoint_dir {MODEL_PATH + '/' } --output_directory exported-models\\my-model"
      ]
    },
    {
      "cell_type": "markdown",
      "metadata": {
        "id": "GIIKwpxtGAhK"
      },
      "source": [
        "Inferencing My Trained Models"
      ]
    },
    {
      "cell_type": "code",
      "execution_count": 18,
      "metadata": {
        "id": "spZJ4ms3FqRT"
      },
      "outputs": [
        {
          "name": "stdout",
          "output_type": "stream",
          "text": [
            "Loading model..."
          ]
        },
        {
          "ename": "OSError",
          "evalue": "SavedModel file does not exist at: ./exported-models/my-model/saved_model\\{saved_model.pbtxt|saved_model.pb}",
          "output_type": "error",
          "traceback": [
            "\u001b[1;31m---------------------------------------------------------------------------\u001b[0m",
            "\u001b[1;31mOSError\u001b[0m                                   Traceback (most recent call last)",
            "Cell \u001b[1;32mIn[18], line 44\u001b[0m\n\u001b[0;32m     41\u001b[0m start_time \u001b[38;5;241m=\u001b[39m time\u001b[38;5;241m.\u001b[39mtime()\n\u001b[0;32m     43\u001b[0m \u001b[38;5;66;03m# LOAD SAVED MODEL AND BUILD DETECTION FUNCTION\u001b[39;00m\n\u001b[1;32m---> 44\u001b[0m detect_fn \u001b[38;5;241m=\u001b[39m \u001b[43mtf\u001b[49m\u001b[38;5;241;43m.\u001b[39;49m\u001b[43msaved_model\u001b[49m\u001b[38;5;241;43m.\u001b[39;49m\u001b[43mload\u001b[49m\u001b[43m(\u001b[49m\u001b[43mPATH_TO_SAVED_MODEL\u001b[49m\u001b[43m)\u001b[49m\n\u001b[0;32m     46\u001b[0m end_time \u001b[38;5;241m=\u001b[39m time\u001b[38;5;241m.\u001b[39mtime()\n\u001b[0;32m     47\u001b[0m elapsed_time \u001b[38;5;241m=\u001b[39m end_time \u001b[38;5;241m-\u001b[39m start_time\n",
            "File \u001b[1;32mc:\\Users\\sudee\\.conda\\envs\\helmet\\lib\\site-packages\\tensorflow\\python\\saved_model\\load.py:782\u001b[0m, in \u001b[0;36mload\u001b[1;34m(export_dir, tags, options)\u001b[0m\n\u001b[0;32m    780\u001b[0m \u001b[38;5;28;01mif\u001b[39;00m \u001b[38;5;28misinstance\u001b[39m(export_dir, os\u001b[38;5;241m.\u001b[39mPathLike):\n\u001b[0;32m    781\u001b[0m   export_dir \u001b[38;5;241m=\u001b[39m os\u001b[38;5;241m.\u001b[39mfspath(export_dir)\n\u001b[1;32m--> 782\u001b[0m result \u001b[38;5;241m=\u001b[39m \u001b[43mload_partial\u001b[49m\u001b[43m(\u001b[49m\u001b[43mexport_dir\u001b[49m\u001b[43m,\u001b[49m\u001b[43m \u001b[49m\u001b[38;5;28;43;01mNone\u001b[39;49;00m\u001b[43m,\u001b[49m\u001b[43m \u001b[49m\u001b[43mtags\u001b[49m\u001b[43m,\u001b[49m\u001b[43m \u001b[49m\u001b[43moptions\u001b[49m\u001b[43m)\u001b[49m[\u001b[38;5;124m\"\u001b[39m\u001b[38;5;124mroot\u001b[39m\u001b[38;5;124m\"\u001b[39m]\n\u001b[0;32m    783\u001b[0m \u001b[38;5;28;01mreturn\u001b[39;00m result\n",
            "File \u001b[1;32mc:\\Users\\sudee\\.conda\\envs\\helmet\\lib\\site-packages\\tensorflow\\python\\saved_model\\load.py:887\u001b[0m, in \u001b[0;36mload_partial\u001b[1;34m(export_dir, filters, tags, options)\u001b[0m\n\u001b[0;32m    882\u001b[0m \u001b[38;5;28;01mif\u001b[39;00m tags \u001b[38;5;129;01mis\u001b[39;00m \u001b[38;5;129;01mnot\u001b[39;00m \u001b[38;5;28;01mNone\u001b[39;00m \u001b[38;5;129;01mand\u001b[39;00m \u001b[38;5;129;01mnot\u001b[39;00m \u001b[38;5;28misinstance\u001b[39m(tags, \u001b[38;5;28mset\u001b[39m):\n\u001b[0;32m    883\u001b[0m   \u001b[38;5;66;03m# Supports e.g. tags=SERVING and tags=[SERVING]. Sets aren't considered\u001b[39;00m\n\u001b[0;32m    884\u001b[0m   \u001b[38;5;66;03m# sequences for nest.flatten, so we put those through as-is.\u001b[39;00m\n\u001b[0;32m    885\u001b[0m   tags \u001b[38;5;241m=\u001b[39m nest\u001b[38;5;241m.\u001b[39mflatten(tags)\n\u001b[0;32m    886\u001b[0m saved_model_proto, debug_info \u001b[38;5;241m=\u001b[39m (\n\u001b[1;32m--> 887\u001b[0m     \u001b[43mloader_impl\u001b[49m\u001b[38;5;241;43m.\u001b[39;49m\u001b[43mparse_saved_model_with_debug_info\u001b[49m\u001b[43m(\u001b[49m\u001b[43mexport_dir\u001b[49m\u001b[43m)\u001b[49m)\n\u001b[0;32m    889\u001b[0m \u001b[38;5;28;01mif\u001b[39;00m (\u001b[38;5;28mlen\u001b[39m(saved_model_proto\u001b[38;5;241m.\u001b[39mmeta_graphs) \u001b[38;5;241m==\u001b[39m \u001b[38;5;241m1\u001b[39m \u001b[38;5;129;01mand\u001b[39;00m\n\u001b[0;32m    890\u001b[0m     saved_model_proto\u001b[38;5;241m.\u001b[39mmeta_graphs[\u001b[38;5;241m0\u001b[39m]\u001b[38;5;241m.\u001b[39mHasField(\u001b[38;5;124m\"\u001b[39m\u001b[38;5;124mobject_graph_def\u001b[39m\u001b[38;5;124m\"\u001b[39m)):\n\u001b[0;32m    891\u001b[0m   metrics\u001b[38;5;241m.\u001b[39mIncrementReadApi(_LOAD_V2_LABEL)\n",
            "File \u001b[1;32mc:\\Users\\sudee\\.conda\\envs\\helmet\\lib\\site-packages\\tensorflow\\python\\saved_model\\loader_impl.py:57\u001b[0m, in \u001b[0;36mparse_saved_model_with_debug_info\u001b[1;34m(export_dir)\u001b[0m\n\u001b[0;32m     44\u001b[0m \u001b[38;5;28;01mdef\u001b[39;00m \u001b[38;5;21mparse_saved_model_with_debug_info\u001b[39m(export_dir):\n\u001b[0;32m     45\u001b[0m \u001b[38;5;250m  \u001b[39m\u001b[38;5;124;03m\"\"\"Reads the savedmodel as well as the graph debug info.\u001b[39;00m\n\u001b[0;32m     46\u001b[0m \n\u001b[0;32m     47\u001b[0m \u001b[38;5;124;03m  Args:\u001b[39;00m\n\u001b[1;32m   (...)\u001b[0m\n\u001b[0;32m     55\u001b[0m \u001b[38;5;124;03m    parsed. Missing graph debug info file is fine.\u001b[39;00m\n\u001b[0;32m     56\u001b[0m \u001b[38;5;124;03m  \"\"\"\u001b[39;00m\n\u001b[1;32m---> 57\u001b[0m   saved_model \u001b[38;5;241m=\u001b[39m \u001b[43mparse_saved_model\u001b[49m\u001b[43m(\u001b[49m\u001b[43mexport_dir\u001b[49m\u001b[43m)\u001b[49m\n\u001b[0;32m     59\u001b[0m   debug_info_path \u001b[38;5;241m=\u001b[39m file_io\u001b[38;5;241m.\u001b[39mjoin(\n\u001b[0;32m     60\u001b[0m       saved_model_utils\u001b[38;5;241m.\u001b[39mget_debug_dir(export_dir),\n\u001b[0;32m     61\u001b[0m       constants\u001b[38;5;241m.\u001b[39mDEBUG_INFO_FILENAME_PB)\n\u001b[0;32m     62\u001b[0m   debug_info \u001b[38;5;241m=\u001b[39m graph_debug_info_pb2\u001b[38;5;241m.\u001b[39mGraphDebugInfo()\n",
            "File \u001b[1;32mc:\\Users\\sudee\\.conda\\envs\\helmet\\lib\\site-packages\\tensorflow\\python\\saved_model\\loader_impl.py:115\u001b[0m, in \u001b[0;36mparse_saved_model\u001b[1;34m(export_dir)\u001b[0m\n\u001b[0;32m    113\u001b[0m     \u001b[38;5;28;01mraise\u001b[39;00m \u001b[38;5;167;01mIOError\u001b[39;00m(\u001b[38;5;124mf\u001b[39m\u001b[38;5;124m\"\u001b[39m\u001b[38;5;124mCannot parse file \u001b[39m\u001b[38;5;132;01m{\u001b[39;00mpath_to_pbtxt\u001b[38;5;132;01m}\u001b[39;00m\u001b[38;5;124m: \u001b[39m\u001b[38;5;132;01m{\u001b[39;00m\u001b[38;5;28mstr\u001b[39m(e)\u001b[38;5;132;01m}\u001b[39;00m\u001b[38;5;124m.\u001b[39m\u001b[38;5;124m\"\u001b[39m)\n\u001b[0;32m    114\u001b[0m \u001b[38;5;28;01melse\u001b[39;00m:\n\u001b[1;32m--> 115\u001b[0m   \u001b[38;5;28;01mraise\u001b[39;00m \u001b[38;5;167;01mIOError\u001b[39;00m(\n\u001b[0;32m    116\u001b[0m       \u001b[38;5;124mf\u001b[39m\u001b[38;5;124m\"\u001b[39m\u001b[38;5;124mSavedModel file does not exist at: \u001b[39m\u001b[38;5;132;01m{\u001b[39;00mexport_dir\u001b[38;5;132;01m}\u001b[39;00m\u001b[38;5;132;01m{\u001b[39;00mos\u001b[38;5;241m.\u001b[39mpath\u001b[38;5;241m.\u001b[39msep\u001b[38;5;132;01m}\u001b[39;00m\u001b[38;5;124m\"\u001b[39m\n\u001b[0;32m    117\u001b[0m       \u001b[38;5;124mf\u001b[39m\u001b[38;5;124m\"\u001b[39m\u001b[38;5;130;01m{{\u001b[39;00m\u001b[38;5;132;01m{\u001b[39;00mconstants\u001b[38;5;241m.\u001b[39mSAVED_MODEL_FILENAME_PBTXT\u001b[38;5;132;01m}\u001b[39;00m\u001b[38;5;124m|\u001b[39m\u001b[38;5;124m\"\u001b[39m\n\u001b[0;32m    118\u001b[0m       \u001b[38;5;124mf\u001b[39m\u001b[38;5;124m\"\u001b[39m\u001b[38;5;132;01m{\u001b[39;00mconstants\u001b[38;5;241m.\u001b[39mSAVED_MODEL_FILENAME_PB\u001b[38;5;132;01m}\u001b[39;00m\u001b[38;5;130;01m}}\u001b[39;00m\u001b[38;5;124m\"\u001b[39m)\n",
            "\u001b[1;31mOSError\u001b[0m: SavedModel file does not exist at: ./exported-models/my-model/saved_model\\{saved_model.pbtxt|saved_model.pb}"
          ]
        }
      ],
      "source": [
        "\"\"\"\n",
        "Object Detection (On Image) From TF2 Saved Model\n",
        "=====================================\n",
        "\"\"\"\n",
        "\n",
        "import os\n",
        "os.environ['TF_CPP_MIN_LOG_LEVEL'] = '2'    # Suppress TensorFlow logging (1)\n",
        "import pathlib\n",
        "import tensorflow as tf\n",
        "import cv2\n",
        "import argparse\n",
        "# from google.colab.patches import cv2_imshow\n",
        "\n",
        "# Enable GPU dynamic memory allocation\n",
        "gpus = tf.config.experimental.list_physical_devices('GPU')\n",
        "for gpu in gpus:\n",
        "    tf.config.experimental.set_memory_growth(gpu, True)\n",
        "\n",
        "# PROVIDE PATH TO IMAGE DIRECTORY\n",
        "IMAGE_PATHS = 'D:/Helmet Detection System/Dataset/PASCAL VOC Format Dataset/test/BikesHelmets392_png.rf.9802b10c090e222ccda1a9c575875961.jpg' #Change\n",
        "\n",
        "\n",
        "# PROVIDE PATH TO MODEL DIRECTORY\n",
        "PATH_TO_MODEL_DIR = './exported-models/my-model'\n",
        "\n",
        "# PROVIDE PATH TO LABEL MAP\n",
        "PATH_TO_LABELS = ANNOTATION_PATH + '/label_map.pbtxt'\n",
        "\n",
        "# PROVIDE THE MINIMUM CONFIDENCE THRESHOLD\n",
        "MIN_CONF_THRESH = float(0.60)\n",
        "\n",
        "# LOAD THE MODEL\n",
        "\n",
        "import time\n",
        "from object_detection.utils import label_map_util\n",
        "from object_detection.utils import visualization_utils as viz_utils\n",
        "\n",
        "PATH_TO_SAVED_MODEL = PATH_TO_MODEL_DIR + \"/saved_model\"\n",
        "\n",
        "print('Loading model...', end='')\n",
        "start_time = time.time()\n",
        "\n",
        "# LOAD SAVED MODEL AND BUILD DETECTION FUNCTION\n",
        "detect_fn = tf.saved_model.load(PATH_TO_SAVED_MODEL)\n",
        "\n",
        "end_time = time.time()\n",
        "elapsed_time = end_time - start_time\n",
        "print('Done! Took {} seconds'.format(elapsed_time))\n",
        "\n",
        "# LOAD LABEL MAP DATA FOR PLOTTING\n",
        "\n",
        "category_index = label_map_util.create_category_index_from_labelmap(PATH_TO_LABELS,\n",
        "                                                                    use_display_name=True)\n",
        "\n",
        "import numpy as np\n",
        "from PIL import Image\n",
        "import matplotlib.pyplot as plt\n",
        "import warnings\n",
        "warnings.filterwarnings('ignore')   # Suppress Matplotlib warnings\n",
        "\n",
        "def load_image_into_numpy_array(path):\n",
        "    \"\"\"Load an image from file into a numpy array.\n",
        "    Puts image into numpy array to feed into tensorflow graph.\n",
        "    Note that by convention we put it into a numpy array with shape\n",
        "    (height, width, channels), where channels=3 for RGB.\n",
        "    Args:\n",
        "      path: the file path to the image\n",
        "    Returns:\n",
        "      uint8 numpy array with shape (img_height, img_width, 3)\n",
        "    \"\"\"\n",
        "    return np.array(Image.open(path))\n",
        "\n",
        "print('Running inference for {}... '.format(IMAGE_PATHS), end='')\n",
        "\n",
        "image = cv2.imread(IMAGE_PATHS)\n",
        "image_rgb = cv2.cvtColor(image, cv2.COLOR_BGR2RGB)\n",
        "image_expanded = np.expand_dims(image_rgb, axis=0)\n",
        "\n",
        "# The input needs to be a tensor, convert it using `tf.convert_to_tensor`.\n",
        "input_tensor = tf.convert_to_tensor(image)\n",
        "# The model expects a batch of images, so add an axis with `tf.newaxis`.\n",
        "input_tensor = input_tensor[tf.newaxis, ...]\n",
        "\n",
        "# input_tensor = np.expand_dims(image_np, 0)\n",
        "detections = detect_fn(input_tensor)\n",
        "\n",
        "# All outputs are batches tensors.\n",
        "# Convert to numpy arrays, and take index [0] to remove the batch dimension.\n",
        "# We're only interested in the first num_detections.\n",
        "num_detections = int(detections.pop('num_detections'))\n",
        "detections = {key: value[0, :num_detections].numpy()\n",
        "               for key, value in detections.items()}\n",
        "detections['num_detections'] = num_detections\n",
        "\n",
        "# detection_classes should be ints.\n",
        "detections['detection_classes'] = detections['detection_classes'].astype(np.int64)\n",
        "\n",
        "image_with_detections = image.copy()\n",
        "\n",
        "# SET MIN_SCORE_THRESH BASED ON YOU MINIMUM THRESHOLD FOR DETECTIONS\n",
        "viz_utils.visualize_boxes_and_labels_on_image_array(\n",
        "      image_with_detections,\n",
        "      detections['detection_boxes'],\n",
        "      detections['detection_classes'],\n",
        "      detections['detection_scores'],\n",
        "      category_index,\n",
        "      use_normalized_coordinates=True,\n",
        "      max_boxes_to_draw=100,\n",
        "      min_score_thresh=0.5,\n",
        "      agnostic_mode=False)\n",
        "\n",
        "print('Done')\n",
        "# DISPLAYS OUTPUT IMAGE\n",
        "cv2.imshow('test', image_with_detections)\n",
        "# CLOSES WINDOW ONCE KEY IS PRESSED\n",
        "cv2.waitKey(0)\n",
        "cv2.destroyAllWindows()"
      ]
    }
  ],
  "metadata": {
    "colab": {
      "provenance": []
    },
    "kernelspec": {
      "display_name": "Python 3 (ipykernel)",
      "language": "python",
      "name": "python3"
    },
    "language_info": {
      "codemirror_mode": {
        "name": "ipython",
        "version": 3
      },
      "file_extension": ".py",
      "mimetype": "text/x-python",
      "name": "python",
      "nbconvert_exporter": "python",
      "pygments_lexer": "ipython3",
      "version": "3.9.18"
    }
  },
  "nbformat": 4,
  "nbformat_minor": 0
}
